{
  "nbformat": 4,
  "nbformat_minor": 0,
  "metadata": {
    "colab": {
      "name": "DeepLearningTest.ipynb",
      "provenance": []
    },
    "kernelspec": {
      "name": "python3",
      "display_name": "Python 3"
    }
  },
  "cells": [
    {
      "cell_type": "markdown",
      "metadata": {
        "id": "SbiDgk_IC8Wo",
        "colab_type": "text"
      },
      "source": [
        "Import Modules"
      ]
    },
    {
      "cell_type": "code",
      "metadata": {
        "id": "VrUegnTxnAlz",
        "colab_type": "code",
        "colab": {}
      },
      "source": [
        "import pandas as pd\n",
        "import numpy as np\n",
        "\n",
        "from keras.models import Sequential\n",
        "from keras.layers import *\n",
        "from keras.callbacks import History \n",
        "from sklearn.preprocessing import MinMaxScaler\n",
        "from datetime import datetime\n",
        "\n",
        "import seaborn as sns\n",
        "import matplotlib.pyplot as plt\n",
        "\n",
        "from google.colab import files\n",
        "from io import BytesIO"
      ],
      "execution_count": 10,
      "outputs": []
    },
    {
      "cell_type": "markdown",
      "metadata": {
        "id": "J1vGYdirC-k-",
        "colab_type": "text"
      },
      "source": [
        "Seed Random Values (Consistent Test Results)"
      ]
    },
    {
      "cell_type": "code",
      "metadata": {
        "id": "DH5j9Qn8XPRk",
        "colab_type": "code",
        "colab": {}
      },
      "source": [
        "from numpy.random import seed\n",
        "from tensorflow.random import set_seed\n",
        "set_seed(42)\n",
        "seed(42)  "
      ],
      "execution_count": 11,
      "outputs": []
    },
    {
      "cell_type": "markdown",
      "metadata": {
        "id": "O0ic9HLqDFnT",
        "colab_type": "text"
      },
      "source": [
        "Import Model Input Data"
      ]
    },
    {
      "cell_type": "code",
      "metadata": {
        "id": "zmhl7eEFnp1L",
        "colab_type": "code",
        "colab": {
          "base_uri": "https://localhost:8080/",
          "height": 34
        },
        "outputId": "7c901e47-a00a-4487-c811-76fe5ad957c1"
      },
      "source": [
        "all_model_input_data = pd.read_csv('/content/drive/My Drive/Colab Notebooks/Tech Project/Input Data/all_model_input_data.csv')\n",
        "#uploaded = files.upload()\n",
        "#all_model_input_data = pd.read_csv(BytesIO(uploaded['all_model_input_data.csv']))\n",
        "print(\"Model Data Imported\")"
      ],
      "execution_count": 12,
      "outputs": [
        {
          "output_type": "stream",
          "text": [
            "Model Data Imported\n"
          ],
          "name": "stdout"
        }
      ]
    },
    {
      "cell_type": "code",
      "metadata": {
        "id": "zlLbLa3wRpz4",
        "colab_type": "code",
        "colab": {
          "base_uri": "https://localhost:8080/",
          "height": 317
        },
        "outputId": "df152996-2d99-4c14-f069-14dc3a3128a4"
      },
      "source": [
        "all_model_input_data.head()"
      ],
      "execution_count": 4,
      "outputs": [
        {
          "output_type": "execute_result",
          "data": {
            "text/html": [
              "<div>\n",
              "<style scoped>\n",
              "    .dataframe tbody tr th:only-of-type {\n",
              "        vertical-align: middle;\n",
              "    }\n",
              "\n",
              "    .dataframe tbody tr th {\n",
              "        vertical-align: top;\n",
              "    }\n",
              "\n",
              "    .dataframe thead th {\n",
              "        text-align: right;\n",
              "    }\n",
              "</style>\n",
              "<table border=\"1\" class=\"dataframe\">\n",
              "  <thead>\n",
              "    <tr style=\"text-align: right;\">\n",
              "      <th></th>\n",
              "      <th>fips</th>\n",
              "      <th>date</th>\n",
              "      <th>county</th>\n",
              "      <th>state</th>\n",
              "      <th>cases</th>\n",
              "      <th>deaths</th>\n",
              "      <th>days_spreading</th>\n",
              "      <th>estimated_r_SIR1</th>\n",
              "      <th>estimated_r_ratio14</th>\n",
              "      <th>estimated_r_ratio8</th>\n",
              "      <th>poor-fair_health</th>\n",
              "      <th>obesity</th>\n",
              "      <th>below_18</th>\n",
              "      <th>over_65</th>\n",
              "      <th>smoking</th>\n",
              "      <th>drinking</th>\n",
              "      <th>Ethnic_Minority</th>\n",
              "      <th>uninsured</th>\n",
              "      <th>household_income</th>\n",
              "      <th>unemployment</th>\n",
              "      <th>% labor_force</th>\n",
              "      <th>rural-urban_code</th>\n",
              "      <th>urban-influence_code</th>\n",
              "      <th>population density</th>\n",
              "      <th>rural</th>\n",
              "      <th>% total cases</th>\n",
              "      <th>% total deaths</th>\n",
              "      <th>av_r_ratio8</th>\n",
              "    </tr>\n",
              "  </thead>\n",
              "  <tbody>\n",
              "    <tr>\n",
              "      <th>0</th>\n",
              "      <td>53061.0</td>\n",
              "      <td>2020-01-21</td>\n",
              "      <td>Snohomish</td>\n",
              "      <td>Washington</td>\n",
              "      <td>1</td>\n",
              "      <td>0</td>\n",
              "      <td>0</td>\n",
              "      <td>1.044893</td>\n",
              "      <td>1.0</td>\n",
              "      <td>1.0</td>\n",
              "      <td>0.118657</td>\n",
              "      <td>0.29</td>\n",
              "      <td>0.227332</td>\n",
              "      <td>0.130403</td>\n",
              "      <td>0.131652</td>\n",
              "      <td>0.187944</td>\n",
              "      <td>0.245325</td>\n",
              "      <td>0.102859</td>\n",
              "      <td>87096.0</td>\n",
              "      <td>3.0</td>\n",
              "      <td>0.534574</td>\n",
              "      <td>1.0</td>\n",
              "      <td>1.0</td>\n",
              "      <td>67.17278</td>\n",
              "      <td>0.108195</td>\n",
              "      <td>0.248276</td>\n",
              "      <td>0.010008</td>\n",
              "      <td>2.68374</td>\n",
              "    </tr>\n",
              "    <tr>\n",
              "      <th>1</th>\n",
              "      <td>53061.0</td>\n",
              "      <td>2020-01-22</td>\n",
              "      <td>Snohomish</td>\n",
              "      <td>Washington</td>\n",
              "      <td>1</td>\n",
              "      <td>0</td>\n",
              "      <td>1</td>\n",
              "      <td>1.048949</td>\n",
              "      <td>1.0</td>\n",
              "      <td>1.0</td>\n",
              "      <td>0.118657</td>\n",
              "      <td>0.29</td>\n",
              "      <td>0.227332</td>\n",
              "      <td>0.130403</td>\n",
              "      <td>0.131652</td>\n",
              "      <td>0.187944</td>\n",
              "      <td>0.245325</td>\n",
              "      <td>0.102859</td>\n",
              "      <td>87096.0</td>\n",
              "      <td>3.0</td>\n",
              "      <td>0.534574</td>\n",
              "      <td>1.0</td>\n",
              "      <td>1.0</td>\n",
              "      <td>67.17278</td>\n",
              "      <td>0.108195</td>\n",
              "      <td>0.248276</td>\n",
              "      <td>0.010008</td>\n",
              "      <td>2.68374</td>\n",
              "    </tr>\n",
              "    <tr>\n",
              "      <th>2</th>\n",
              "      <td>53061.0</td>\n",
              "      <td>2020-01-23</td>\n",
              "      <td>Snohomish</td>\n",
              "      <td>Washington</td>\n",
              "      <td>1</td>\n",
              "      <td>0</td>\n",
              "      <td>2</td>\n",
              "      <td>1.053370</td>\n",
              "      <td>1.0</td>\n",
              "      <td>1.0</td>\n",
              "      <td>0.118657</td>\n",
              "      <td>0.29</td>\n",
              "      <td>0.227332</td>\n",
              "      <td>0.130403</td>\n",
              "      <td>0.131652</td>\n",
              "      <td>0.187944</td>\n",
              "      <td>0.245325</td>\n",
              "      <td>0.102859</td>\n",
              "      <td>87096.0</td>\n",
              "      <td>3.0</td>\n",
              "      <td>0.534574</td>\n",
              "      <td>1.0</td>\n",
              "      <td>1.0</td>\n",
              "      <td>67.17278</td>\n",
              "      <td>0.108195</td>\n",
              "      <td>0.248276</td>\n",
              "      <td>0.010008</td>\n",
              "      <td>2.68374</td>\n",
              "    </tr>\n",
              "    <tr>\n",
              "      <th>3</th>\n",
              "      <td>53061.0</td>\n",
              "      <td>2020-01-24</td>\n",
              "      <td>Snohomish</td>\n",
              "      <td>Washington</td>\n",
              "      <td>1</td>\n",
              "      <td>0</td>\n",
              "      <td>3</td>\n",
              "      <td>1.058190</td>\n",
              "      <td>1.0</td>\n",
              "      <td>1.0</td>\n",
              "      <td>0.118657</td>\n",
              "      <td>0.29</td>\n",
              "      <td>0.227332</td>\n",
              "      <td>0.130403</td>\n",
              "      <td>0.131652</td>\n",
              "      <td>0.187944</td>\n",
              "      <td>0.245325</td>\n",
              "      <td>0.102859</td>\n",
              "      <td>87096.0</td>\n",
              "      <td>3.0</td>\n",
              "      <td>0.534574</td>\n",
              "      <td>1.0</td>\n",
              "      <td>1.0</td>\n",
              "      <td>67.17278</td>\n",
              "      <td>0.108195</td>\n",
              "      <td>0.248276</td>\n",
              "      <td>0.010008</td>\n",
              "      <td>2.68374</td>\n",
              "    </tr>\n",
              "    <tr>\n",
              "      <th>4</th>\n",
              "      <td>53061.0</td>\n",
              "      <td>2020-01-25</td>\n",
              "      <td>Snohomish</td>\n",
              "      <td>Washington</td>\n",
              "      <td>1</td>\n",
              "      <td>0</td>\n",
              "      <td>4</td>\n",
              "      <td>1.063444</td>\n",
              "      <td>1.0</td>\n",
              "      <td>1.0</td>\n",
              "      <td>0.118657</td>\n",
              "      <td>0.29</td>\n",
              "      <td>0.227332</td>\n",
              "      <td>0.130403</td>\n",
              "      <td>0.131652</td>\n",
              "      <td>0.187944</td>\n",
              "      <td>0.245325</td>\n",
              "      <td>0.102859</td>\n",
              "      <td>87096.0</td>\n",
              "      <td>3.0</td>\n",
              "      <td>0.534574</td>\n",
              "      <td>1.0</td>\n",
              "      <td>1.0</td>\n",
              "      <td>67.17278</td>\n",
              "      <td>0.108195</td>\n",
              "      <td>0.248276</td>\n",
              "      <td>0.010008</td>\n",
              "      <td>2.68374</td>\n",
              "    </tr>\n",
              "  </tbody>\n",
              "</table>\n",
              "</div>"
            ],
            "text/plain": [
              "      fips        date     county  ... % total cases  % total deaths  av_r_ratio8\n",
              "0  53061.0  2020-01-21  Snohomish  ...      0.248276        0.010008      2.68374\n",
              "1  53061.0  2020-01-22  Snohomish  ...      0.248276        0.010008      2.68374\n",
              "2  53061.0  2020-01-23  Snohomish  ...      0.248276        0.010008      2.68374\n",
              "3  53061.0  2020-01-24  Snohomish  ...      0.248276        0.010008      2.68374\n",
              "4  53061.0  2020-01-25  Snohomish  ...      0.248276        0.010008      2.68374\n",
              "\n",
              "[5 rows x 28 columns]"
            ]
          },
          "metadata": {
            "tags": []
          },
          "execution_count": 4
        }
      ]
    },
    {
      "cell_type": "markdown",
      "metadata": {
        "id": "Qx8JSyCzDgFM",
        "colab_type": "text"
      },
      "source": [
        "Format Data"
      ]
    },
    {
      "cell_type": "code",
      "metadata": {
        "id": "aVPzN3_rn-kr",
        "colab_type": "code",
        "colab": {
          "base_uri": "https://localhost:8080/",
          "height": 387
        },
        "outputId": "641efb83-7cc6-447e-cf7f-e59584c8e231"
      },
      "source": [
        "# Remove R value outliers\n",
        "max_r_value = 15\n",
        "all_model_input_data_scaled = all_model_input_data.copy()\n",
        "all_model_input_data_scaled['date'] = pd.to_datetime(all_model_input_data_scaled['date'])\n",
        "all_model_input_data_scaled[\"estimated_r_ratio8\"] = all_model_input_data_scaled[\"estimated_r_ratio8\"].clip(upper=max_r_value)\n",
        "all_model_input_data_scaled[\"estimated_r_ratio14\"] = all_model_input_data_scaled[\"estimated_r_ratio14\"].clip(upper=max_r_value)\n",
        "all_model_input_data_scaled[\"estimated_r_SIR1\"] = all_model_input_data_scaled[\"estimated_r_SIR1\"].clip(upper=max_r_value)\n",
        "\n",
        "# Select Features and target\n",
        "target_column = 'estimated_r_ratio8'\n",
        "features = ['days_spreading','poor-fair_health','obesity','smoking','drinking','Ethnic_Minority','below_18','over_65','uninsured','household_income','unemployment','% labor_force','population density','rural','% total cases',\t'% total deaths','rural-urban_code','urban-influence_code'] # ,'rural-urban_code','urban-influence_code'\n",
        "\n",
        "# Scale features and target from 0-1 for model input\n",
        "scale_columns = features.copy()\n",
        "scale_columns.remove('rural-urban_code')\n",
        "scale_columns.remove('urban-influence_code')\n",
        "scale_columns.append(target_column)\n",
        "\n",
        "# Save the transform of the target column so we can reverse it after our predicitions\n",
        "target_offset = all_model_input_data_scaled[target_column].min()  \n",
        "target_multiplier = (all_model_input_data_scaled[target_column]-target_offset).max() \n",
        "\n",
        "for col in scale_columns:\n",
        "  all_model_input_data_scaled[col] -= all_model_input_data_scaled[col].min() # Subtract min value\n",
        "  all_model_input_data_scaled[col] /= all_model_input_data_scaled[col].max() # Divide by max value\n",
        "\n",
        "print(\"Target Scaled By Subtracting: {} then Dividing by: {}\".format(target_offset,target_multiplier))\n",
        "\n",
        "# One-hot encode county urbanisation codes\n",
        "ui_onehot = pd.get_dummies(all_model_input_data_scaled['urban-influence_code'],prefix='u-i_code',drop_first=False)\n",
        "ru_onehot = pd.get_dummies(all_model_input_data_scaled['rural-urban_code'],prefix='r-u_code',drop_first=False)\n",
        "all_model_input_data_scaled_enc = all_model_input_data_scaled.drop('urban-influence_code',axis = 1).drop('rural-urban_code',axis=1)\n",
        "all_model_input_data_scaled_enc = all_model_input_data_scaled_enc.join(ui_onehot).join(ru_onehot)\n",
        "\n",
        "# Train Test Split\n",
        "date_threshold = datetime(year=2020, month=5, day=17)\n",
        "train_data = all_model_input_data_scaled_enc[all_model_input_data_scaled_enc[\"date\"] < date_threshold]\n",
        "test_data = all_model_input_data_scaled_enc[all_model_input_data_scaled_enc[\"date\"] >= date_threshold]\n",
        "\n",
        "'''\n",
        "# Alternative Train-Test split with shuffling\n",
        "train_ratio = 0.8\n",
        "train_data = all_model_input_data_scaled_enc.sample(frac=train_ratio,random_state=42) #random state is a seed value\n",
        "test_data = all_model_input_data_scaled_enc.drop(train_data.index)\n",
        "'''\n",
        "\n",
        "print(\"Train Length: {}\\nTest Length: {}\".format(train_data.date.count(),test_data.date.count()))\n",
        "train_data.head()"
      ],
      "execution_count": 13,
      "outputs": [
        {
          "output_type": "stream",
          "text": [
            "Target Scaled By Subtracting: 0.25 then Dividing by: 14.75\n",
            "Train Length: 146112\n",
            "Test Length: 30250\n"
          ],
          "name": "stdout"
        },
        {
          "output_type": "execute_result",
          "data": {
            "text/html": [
              "<div>\n",
              "<style scoped>\n",
              "    .dataframe tbody tr th:only-of-type {\n",
              "        vertical-align: middle;\n",
              "    }\n",
              "\n",
              "    .dataframe tbody tr th {\n",
              "        vertical-align: top;\n",
              "    }\n",
              "\n",
              "    .dataframe thead th {\n",
              "        text-align: right;\n",
              "    }\n",
              "</style>\n",
              "<table border=\"1\" class=\"dataframe\">\n",
              "  <thead>\n",
              "    <tr style=\"text-align: right;\">\n",
              "      <th></th>\n",
              "      <th>fips</th>\n",
              "      <th>date</th>\n",
              "      <th>county</th>\n",
              "      <th>state</th>\n",
              "      <th>cases</th>\n",
              "      <th>deaths</th>\n",
              "      <th>days_spreading</th>\n",
              "      <th>estimated_r_SIR1</th>\n",
              "      <th>estimated_r_ratio14</th>\n",
              "      <th>estimated_r_ratio8</th>\n",
              "      <th>poor-fair_health</th>\n",
              "      <th>obesity</th>\n",
              "      <th>below_18</th>\n",
              "      <th>over_65</th>\n",
              "      <th>smoking</th>\n",
              "      <th>drinking</th>\n",
              "      <th>Ethnic_Minority</th>\n",
              "      <th>uninsured</th>\n",
              "      <th>household_income</th>\n",
              "      <th>unemployment</th>\n",
              "      <th>% labor_force</th>\n",
              "      <th>population density</th>\n",
              "      <th>rural</th>\n",
              "      <th>% total cases</th>\n",
              "      <th>% total deaths</th>\n",
              "      <th>av_r_ratio8</th>\n",
              "      <th>u-i_code_1.0</th>\n",
              "      <th>u-i_code_2.0</th>\n",
              "      <th>u-i_code_3.0</th>\n",
              "      <th>u-i_code_4.0</th>\n",
              "      <th>u-i_code_5.0</th>\n",
              "      <th>u-i_code_6.0</th>\n",
              "      <th>u-i_code_7.0</th>\n",
              "      <th>u-i_code_8.0</th>\n",
              "      <th>u-i_code_9.0</th>\n",
              "      <th>u-i_code_10.0</th>\n",
              "      <th>u-i_code_11.0</th>\n",
              "      <th>u-i_code_12.0</th>\n",
              "      <th>r-u_code_1.0</th>\n",
              "      <th>r-u_code_2.0</th>\n",
              "      <th>r-u_code_3.0</th>\n",
              "      <th>r-u_code_4.0</th>\n",
              "      <th>r-u_code_5.0</th>\n",
              "      <th>r-u_code_6.0</th>\n",
              "      <th>r-u_code_7.0</th>\n",
              "      <th>r-u_code_8.0</th>\n",
              "      <th>r-u_code_9.0</th>\n",
              "    </tr>\n",
              "  </thead>\n",
              "  <tbody>\n",
              "    <tr>\n",
              "      <th>0</th>\n",
              "      <td>53061.0</td>\n",
              "      <td>2020-01-21</td>\n",
              "      <td>Snohomish</td>\n",
              "      <td>Washington</td>\n",
              "      <td>1</td>\n",
              "      <td>0</td>\n",
              "      <td>0.000000</td>\n",
              "      <td>1.044893</td>\n",
              "      <td>1.0</td>\n",
              "      <td>0.050847</td>\n",
              "      <td>0.11024</td>\n",
              "      <td>0.428969</td>\n",
              "      <td>0.457009</td>\n",
              "      <td>0.158569</td>\n",
              "      <td>0.198793</td>\n",
              "      <td>0.47233</td>\n",
              "      <td>0.244672</td>\n",
              "      <td>0.125993</td>\n",
              "      <td>0.536631</td>\n",
              "      <td>0.094675</td>\n",
              "      <td>0.622804</td>\n",
              "      <td>0.026745</td>\n",
              "      <td>0.108195</td>\n",
              "      <td>0.043422</td>\n",
              "      <td>0.06408</td>\n",
              "      <td>2.68374</td>\n",
              "      <td>1</td>\n",
              "      <td>0</td>\n",
              "      <td>0</td>\n",
              "      <td>0</td>\n",
              "      <td>0</td>\n",
              "      <td>0</td>\n",
              "      <td>0</td>\n",
              "      <td>0</td>\n",
              "      <td>0</td>\n",
              "      <td>0</td>\n",
              "      <td>0</td>\n",
              "      <td>0</td>\n",
              "      <td>1</td>\n",
              "      <td>0</td>\n",
              "      <td>0</td>\n",
              "      <td>0</td>\n",
              "      <td>0</td>\n",
              "      <td>0</td>\n",
              "      <td>0</td>\n",
              "      <td>0</td>\n",
              "      <td>0</td>\n",
              "    </tr>\n",
              "    <tr>\n",
              "      <th>1</th>\n",
              "      <td>53061.0</td>\n",
              "      <td>2020-01-22</td>\n",
              "      <td>Snohomish</td>\n",
              "      <td>Washington</td>\n",
              "      <td>1</td>\n",
              "      <td>0</td>\n",
              "      <td>0.007874</td>\n",
              "      <td>1.048949</td>\n",
              "      <td>1.0</td>\n",
              "      <td>0.050847</td>\n",
              "      <td>0.11024</td>\n",
              "      <td>0.428969</td>\n",
              "      <td>0.457009</td>\n",
              "      <td>0.158569</td>\n",
              "      <td>0.198793</td>\n",
              "      <td>0.47233</td>\n",
              "      <td>0.244672</td>\n",
              "      <td>0.125993</td>\n",
              "      <td>0.536631</td>\n",
              "      <td>0.094675</td>\n",
              "      <td>0.622804</td>\n",
              "      <td>0.026745</td>\n",
              "      <td>0.108195</td>\n",
              "      <td>0.043422</td>\n",
              "      <td>0.06408</td>\n",
              "      <td>2.68374</td>\n",
              "      <td>1</td>\n",
              "      <td>0</td>\n",
              "      <td>0</td>\n",
              "      <td>0</td>\n",
              "      <td>0</td>\n",
              "      <td>0</td>\n",
              "      <td>0</td>\n",
              "      <td>0</td>\n",
              "      <td>0</td>\n",
              "      <td>0</td>\n",
              "      <td>0</td>\n",
              "      <td>0</td>\n",
              "      <td>1</td>\n",
              "      <td>0</td>\n",
              "      <td>0</td>\n",
              "      <td>0</td>\n",
              "      <td>0</td>\n",
              "      <td>0</td>\n",
              "      <td>0</td>\n",
              "      <td>0</td>\n",
              "      <td>0</td>\n",
              "    </tr>\n",
              "    <tr>\n",
              "      <th>2</th>\n",
              "      <td>53061.0</td>\n",
              "      <td>2020-01-23</td>\n",
              "      <td>Snohomish</td>\n",
              "      <td>Washington</td>\n",
              "      <td>1</td>\n",
              "      <td>0</td>\n",
              "      <td>0.015748</td>\n",
              "      <td>1.053370</td>\n",
              "      <td>1.0</td>\n",
              "      <td>0.050847</td>\n",
              "      <td>0.11024</td>\n",
              "      <td>0.428969</td>\n",
              "      <td>0.457009</td>\n",
              "      <td>0.158569</td>\n",
              "      <td>0.198793</td>\n",
              "      <td>0.47233</td>\n",
              "      <td>0.244672</td>\n",
              "      <td>0.125993</td>\n",
              "      <td>0.536631</td>\n",
              "      <td>0.094675</td>\n",
              "      <td>0.622804</td>\n",
              "      <td>0.026745</td>\n",
              "      <td>0.108195</td>\n",
              "      <td>0.043422</td>\n",
              "      <td>0.06408</td>\n",
              "      <td>2.68374</td>\n",
              "      <td>1</td>\n",
              "      <td>0</td>\n",
              "      <td>0</td>\n",
              "      <td>0</td>\n",
              "      <td>0</td>\n",
              "      <td>0</td>\n",
              "      <td>0</td>\n",
              "      <td>0</td>\n",
              "      <td>0</td>\n",
              "      <td>0</td>\n",
              "      <td>0</td>\n",
              "      <td>0</td>\n",
              "      <td>1</td>\n",
              "      <td>0</td>\n",
              "      <td>0</td>\n",
              "      <td>0</td>\n",
              "      <td>0</td>\n",
              "      <td>0</td>\n",
              "      <td>0</td>\n",
              "      <td>0</td>\n",
              "      <td>0</td>\n",
              "    </tr>\n",
              "    <tr>\n",
              "      <th>3</th>\n",
              "      <td>53061.0</td>\n",
              "      <td>2020-01-24</td>\n",
              "      <td>Snohomish</td>\n",
              "      <td>Washington</td>\n",
              "      <td>1</td>\n",
              "      <td>0</td>\n",
              "      <td>0.023622</td>\n",
              "      <td>1.058190</td>\n",
              "      <td>1.0</td>\n",
              "      <td>0.050847</td>\n",
              "      <td>0.11024</td>\n",
              "      <td>0.428969</td>\n",
              "      <td>0.457009</td>\n",
              "      <td>0.158569</td>\n",
              "      <td>0.198793</td>\n",
              "      <td>0.47233</td>\n",
              "      <td>0.244672</td>\n",
              "      <td>0.125993</td>\n",
              "      <td>0.536631</td>\n",
              "      <td>0.094675</td>\n",
              "      <td>0.622804</td>\n",
              "      <td>0.026745</td>\n",
              "      <td>0.108195</td>\n",
              "      <td>0.043422</td>\n",
              "      <td>0.06408</td>\n",
              "      <td>2.68374</td>\n",
              "      <td>1</td>\n",
              "      <td>0</td>\n",
              "      <td>0</td>\n",
              "      <td>0</td>\n",
              "      <td>0</td>\n",
              "      <td>0</td>\n",
              "      <td>0</td>\n",
              "      <td>0</td>\n",
              "      <td>0</td>\n",
              "      <td>0</td>\n",
              "      <td>0</td>\n",
              "      <td>0</td>\n",
              "      <td>1</td>\n",
              "      <td>0</td>\n",
              "      <td>0</td>\n",
              "      <td>0</td>\n",
              "      <td>0</td>\n",
              "      <td>0</td>\n",
              "      <td>0</td>\n",
              "      <td>0</td>\n",
              "      <td>0</td>\n",
              "    </tr>\n",
              "    <tr>\n",
              "      <th>4</th>\n",
              "      <td>53061.0</td>\n",
              "      <td>2020-01-25</td>\n",
              "      <td>Snohomish</td>\n",
              "      <td>Washington</td>\n",
              "      <td>1</td>\n",
              "      <td>0</td>\n",
              "      <td>0.031496</td>\n",
              "      <td>1.063444</td>\n",
              "      <td>1.0</td>\n",
              "      <td>0.050847</td>\n",
              "      <td>0.11024</td>\n",
              "      <td>0.428969</td>\n",
              "      <td>0.457009</td>\n",
              "      <td>0.158569</td>\n",
              "      <td>0.198793</td>\n",
              "      <td>0.47233</td>\n",
              "      <td>0.244672</td>\n",
              "      <td>0.125993</td>\n",
              "      <td>0.536631</td>\n",
              "      <td>0.094675</td>\n",
              "      <td>0.622804</td>\n",
              "      <td>0.026745</td>\n",
              "      <td>0.108195</td>\n",
              "      <td>0.043422</td>\n",
              "      <td>0.06408</td>\n",
              "      <td>2.68374</td>\n",
              "      <td>1</td>\n",
              "      <td>0</td>\n",
              "      <td>0</td>\n",
              "      <td>0</td>\n",
              "      <td>0</td>\n",
              "      <td>0</td>\n",
              "      <td>0</td>\n",
              "      <td>0</td>\n",
              "      <td>0</td>\n",
              "      <td>0</td>\n",
              "      <td>0</td>\n",
              "      <td>0</td>\n",
              "      <td>1</td>\n",
              "      <td>0</td>\n",
              "      <td>0</td>\n",
              "      <td>0</td>\n",
              "      <td>0</td>\n",
              "      <td>0</td>\n",
              "      <td>0</td>\n",
              "      <td>0</td>\n",
              "      <td>0</td>\n",
              "    </tr>\n",
              "  </tbody>\n",
              "</table>\n",
              "</div>"
            ],
            "text/plain": [
              "      fips       date     county  ... r-u_code_7.0  r-u_code_8.0  r-u_code_9.0\n",
              "0  53061.0 2020-01-21  Snohomish  ...            0             0             0\n",
              "1  53061.0 2020-01-22  Snohomish  ...            0             0             0\n",
              "2  53061.0 2020-01-23  Snohomish  ...            0             0             0\n",
              "3  53061.0 2020-01-24  Snohomish  ...            0             0             0\n",
              "4  53061.0 2020-01-25  Snohomish  ...            0             0             0\n",
              "\n",
              "[5 rows x 47 columns]"
            ]
          },
          "metadata": {
            "tags": []
          },
          "execution_count": 13
        }
      ]
    },
    {
      "cell_type": "markdown",
      "metadata": {
        "id": "L8n5pTjPDlQl",
        "colab_type": "text"
      },
      "source": [
        "Format data for model"
      ]
    },
    {
      "cell_type": "code",
      "metadata": {
        "id": "KSMrKLYuoJYB",
        "colab_type": "code",
        "colab": {}
      },
      "source": [
        "# Select Final Feature columns\n",
        "final_features = scale_columns.copy()\n",
        "final_features.remove(target_column)\n",
        "for col in ui_onehot.columns: \n",
        "  final_features.append(col)\n",
        "for col in ru_onehot.columns: \n",
        "  final_features.append(col)\n",
        "\n",
        "# Extract Features and Target\n",
        "train_y = train_data[target_column]\n",
        "test_y = test_data[target_column]\n",
        "train_x = train_data[final_features]\n",
        "test_x = test_data[final_features]\n",
        "\n",
        "# Convert to np arrays for model input\n",
        "train_y_list = train_y.values\n",
        "test_y_list = test_y.values\n",
        "train_x_list = train_x.values\n",
        "test_x_list = test_x.values"
      ],
      "execution_count": 14,
      "outputs": []
    },
    {
      "cell_type": "markdown",
      "metadata": {
        "id": "WGl7m2p1cocB",
        "colab_type": "text"
      },
      "source": [
        "Define Neural Network Model Topology"
      ]
    },
    {
      "cell_type": "code",
      "metadata": {
        "id": "znkvzwXqWIjf",
        "colab_type": "code",
        "colab": {
          "base_uri": "https://localhost:8080/",
          "height": 53
        },
        "outputId": "3a765aa8-51f1-4641-e828-95a15bd091d4"
      },
      "source": [
        "# Define Model Topology\n",
        "num_input_nodes = len(test_x_list[0])\n",
        "print(num_input_nodes)\n",
        "\n",
        "# Use a Deep RNN\n",
        "model = Sequential()\n",
        "\n",
        "# Input and hidden layers :\n",
        "model.add(Dense(50, input_dim=num_input_nodes, activation='relu'))\n",
        "model.add(Dense(100, activation='relu'))\n",
        "model.add(Dense(100, activation='relu'))\n",
        "model.add(Dense(50, activation='relu'))\n",
        "\n",
        "# Output neuron with linear activation function\n",
        "model.add(Dense(1, activation='linear')) \n",
        "\n",
        "# Use MAE for our loss function\n",
        "model.compile(loss='mean_absolute_error', optimizer='adam')\n",
        "\n",
        "'''\n",
        "# Example of a shallower model:\n",
        "model.add(Dense(32, input_dim=num_input_nodes, activation='relu'))\n",
        "model.add(Dense(1, activation='linear'))\n",
        "'''\n",
        "'''\n",
        "# Example of a simple perceptron:\n",
        "model.add(Dense(1, input_dim=num_input_nodes, activation='linear'))\n",
        "'''\n"
      ],
      "execution_count": 15,
      "outputs": [
        {
          "output_type": "stream",
          "text": [
            "37\n"
          ],
          "name": "stdout"
        },
        {
          "output_type": "execute_result",
          "data": {
            "application/vnd.google.colaboratory.intrinsic+json": {
              "type": "string"
            },
            "text/plain": [
              "\"\\n# Example of a simple perceptron:\\nmodel.add(Dense(1, input_dim=num_input_nodes, activation='linear'))\\n\""
            ]
          },
          "metadata": {
            "tags": []
          },
          "execution_count": 15
        }
      ]
    },
    {
      "cell_type": "markdown",
      "metadata": {
        "id": "6wVX0sLnD-_l",
        "colab_type": "text"
      },
      "source": [
        "Train Model"
      ]
    },
    {
      "cell_type": "code",
      "metadata": {
        "id": "LqLZ5PsPWMKG",
        "colab_type": "code",
        "colab": {
          "base_uri": "https://localhost:8080/",
          "height": 1000
        },
        "outputId": "af584d97-b510-4493-ed66-5a4cceac188a"
      },
      "source": [
        "# Fit model\n",
        "num_epochs = 30\n",
        "validation_split = 0.2\n",
        "training_metrics = model.fit(train_x_list,train_y_list,epochs=num_epochs,validation_split=validation_split,shuffle=True,verbose=2)"
      ],
      "execution_count": 16,
      "outputs": [
        {
          "output_type": "stream",
          "text": [
            "Train on 116889 samples, validate on 29223 samples\n",
            "Epoch 1/30\n",
            " - 6s - loss: 0.0507 - val_loss: 0.0467\n",
            "Epoch 2/30\n",
            " - 6s - loss: 0.0476 - val_loss: 0.0431\n",
            "Epoch 3/30\n",
            " - 6s - loss: 0.0467 - val_loss: 0.0461\n",
            "Epoch 4/30\n",
            " - 6s - loss: 0.0462 - val_loss: 0.0434\n",
            "Epoch 5/30\n",
            " - 6s - loss: 0.0457 - val_loss: 0.0440\n",
            "Epoch 6/30\n",
            " - 6s - loss: 0.0452 - val_loss: 0.0429\n",
            "Epoch 7/30\n",
            " - 6s - loss: 0.0447 - val_loss: 0.0446\n",
            "Epoch 8/30\n",
            " - 6s - loss: 0.0442 - val_loss: 0.0438\n",
            "Epoch 9/30\n",
            " - 6s - loss: 0.0439 - val_loss: 0.0449\n",
            "Epoch 10/30\n",
            " - 6s - loss: 0.0434 - val_loss: 0.0453\n",
            "Epoch 11/30\n",
            " - 6s - loss: 0.0429 - val_loss: 0.0452\n",
            "Epoch 12/30\n",
            " - 6s - loss: 0.0424 - val_loss: 0.0452\n",
            "Epoch 13/30\n",
            " - 6s - loss: 0.0420 - val_loss: 0.0459\n",
            "Epoch 14/30\n",
            " - 6s - loss: 0.0417 - val_loss: 0.0450\n",
            "Epoch 15/30\n",
            " - 6s - loss: 0.0413 - val_loss: 0.0453\n",
            "Epoch 16/30\n",
            " - 6s - loss: 0.0409 - val_loss: 0.0433\n",
            "Epoch 17/30\n",
            " - 6s - loss: 0.0406 - val_loss: 0.0465\n",
            "Epoch 18/30\n",
            " - 6s - loss: 0.0403 - val_loss: 0.0459\n",
            "Epoch 19/30\n",
            " - 6s - loss: 0.0399 - val_loss: 0.0458\n",
            "Epoch 20/30\n",
            " - 8s - loss: 0.0397 - val_loss: 0.0458\n",
            "Epoch 21/30\n",
            " - 7s - loss: 0.0394 - val_loss: 0.0460\n",
            "Epoch 22/30\n",
            " - 7s - loss: 0.0391 - val_loss: 0.0462\n",
            "Epoch 23/30\n",
            " - 6s - loss: 0.0389 - val_loss: 0.0468\n",
            "Epoch 24/30\n",
            " - 6s - loss: 0.0385 - val_loss: 0.0474\n",
            "Epoch 25/30\n",
            " - 6s - loss: 0.0383 - val_loss: 0.0461\n",
            "Epoch 26/30\n",
            " - 6s - loss: 0.0380 - val_loss: 0.0469\n",
            "Epoch 27/30\n",
            " - 6s - loss: 0.0379 - val_loss: 0.0453\n",
            "Epoch 28/30\n",
            " - 6s - loss: 0.0376 - val_loss: 0.0481\n",
            "Epoch 29/30\n",
            " - 6s - loss: 0.0374 - val_loss: 0.0480\n",
            "Epoch 30/30\n",
            " - 6s - loss: 0.0370 - val_loss: 0.0477\n"
          ],
          "name": "stdout"
        }
      ]
    },
    {
      "cell_type": "markdown",
      "metadata": {
        "id": "Gt5vxs2dEJ6M",
        "colab_type": "text"
      },
      "source": [
        "Veiw Training Metrics"
      ]
    },
    {
      "cell_type": "code",
      "metadata": {
        "id": "l6-uC6cgXfQv",
        "colab_type": "code",
        "colab": {
          "base_uri": "https://localhost:8080/",
          "height": 238
        },
        "outputId": "b665888d-e14c-49f3-a362-4b6cb86bd53d"
      },
      "source": [
        "# Few Loss over epochs\n",
        "sns.set(style=\"darkgrid\")\n",
        "loss_values = training_metrics.history['loss']\n",
        "#loss_values_1 = training_metrics_1.history['loss']\n",
        "#loss_values_2 = training_metrics_2.history['loss']\n",
        "#loss_values_3 = training_metrics_3.history['loss']\n",
        "#val_loss_values = training_metrics.history['val_loss']\n",
        "epoch_values = [i for i in range(1,num_epochs+1)]\n",
        "\n",
        "plt.figure(figsize=(10,10))\n",
        "plt.plot(epoch_values, loss_values)\n",
        "#plt.plot(epoch_values, loss_values_1, color='orange', label = 'No Deep Layers')\n",
        "#plt.plot(epoch_values, loss_values_2, color='deeppink', label = '1 Deep Layer')\n",
        "#plt.plot(epoch_values, loss_values_3, color='blue', label = '3 Deep Layers')\n",
        "\n",
        "#plt.ylabel('Loss Value')\n",
        "plt.title(\"Neural Network Training Loss\" )\n",
        "plt.xlabel('Training Iteration')\n",
        "#plt.legend()\n",
        "plt.show()"
      ],
      "execution_count": 9,
      "outputs": [
        {
          "output_type": "error",
          "ename": "NameError",
          "evalue": "ignored",
          "traceback": [
            "\u001b[0;31m---------------------------------------------------------------------------\u001b[0m",
            "\u001b[0;31mNameError\u001b[0m                                 Traceback (most recent call last)",
            "\u001b[0;32m<ipython-input-9-2804b3695032>\u001b[0m in \u001b[0;36m<module>\u001b[0;34m()\u001b[0m\n\u001b[1;32m      1\u001b[0m \u001b[0;31m# Few Loss over epochs\u001b[0m\u001b[0;34m\u001b[0m\u001b[0;34m\u001b[0m\u001b[0;34m\u001b[0m\u001b[0m\n\u001b[1;32m      2\u001b[0m \u001b[0msns\u001b[0m\u001b[0;34m.\u001b[0m\u001b[0mset\u001b[0m\u001b[0;34m(\u001b[0m\u001b[0mstyle\u001b[0m\u001b[0;34m=\u001b[0m\u001b[0;34m\"darkgrid\"\u001b[0m\u001b[0;34m)\u001b[0m\u001b[0;34m\u001b[0m\u001b[0;34m\u001b[0m\u001b[0m\n\u001b[0;32m----> 3\u001b[0;31m \u001b[0mloss_values\u001b[0m \u001b[0;34m=\u001b[0m \u001b[0mtraining_metrics\u001b[0m\u001b[0;34m.\u001b[0m\u001b[0mhistory\u001b[0m\u001b[0;34m[\u001b[0m\u001b[0;34m'loss'\u001b[0m\u001b[0;34m]\u001b[0m\u001b[0;34m\u001b[0m\u001b[0;34m\u001b[0m\u001b[0m\n\u001b[0m\u001b[1;32m      4\u001b[0m \u001b[0;31m#loss_values_1 = training_metrics_1.history['loss']\u001b[0m\u001b[0;34m\u001b[0m\u001b[0;34m\u001b[0m\u001b[0;34m\u001b[0m\u001b[0m\n\u001b[1;32m      5\u001b[0m \u001b[0;31m#loss_values_2 = training_metrics_2.history['loss']\u001b[0m\u001b[0;34m\u001b[0m\u001b[0;34m\u001b[0m\u001b[0;34m\u001b[0m\u001b[0m\n",
            "\u001b[0;31mNameError\u001b[0m: name 'training_metrics' is not defined"
          ]
        }
      ]
    },
    {
      "cell_type": "code",
      "metadata": {
        "id": "eMEWJEPvZv8P",
        "colab_type": "code",
        "colab": {
          "base_uri": "https://localhost:8080/",
          "height": 295
        },
        "outputId": "463a7c0b-ec67-49f1-ba6f-0809fb6971c4"
      },
      "source": [
        "# Here is an example of an early model I tested - which showed bag overfitting (large loss after each shuffle suggests model is memorising the test set exactly)"
      ],
      "execution_count": null,
      "outputs": [
        {
          "output_type": "display_data",
          "data": {
            "image/png": "[encoded data removed]",
            "text/plain": [
              "<Figure size 432x288 with 2 Axes>"
            ]
          },
          "metadata": {
            "tags": [],
            "needs_background": "light"
          }
        }
      ]
    },
    {
      "cell_type": "markdown",
      "metadata": {
        "id": "Lmm6pN6iEQFE",
        "colab_type": "text"
      },
      "source": [
        "Evaluate Model on Test Data"
      ]
    },
    {
      "cell_type": "code",
      "metadata": {
        "id": "W9H4mdSVY1vi",
        "colab_type": "code",
        "colab": {
          "base_uri": "https://localhost:8080/",
          "height": 141
        },
        "outputId": "3a57c2b7-470f-4ecb-b421-8889219a4efb"
      },
      "source": [
        "# Make prediction\n",
        "test_prediction = model.predict(test_x_list)\n",
        "test_prediction"
      ],
      "execution_count": 34,
      "outputs": [
        {
          "output_type": "execute_result",
          "data": {
            "text/plain": [
              "array([[0.31484795],\n",
              "       [0.3160508 ],\n",
              "       [0.24644081],\n",
              "       ...,\n",
              "       [0.05316366],\n",
              "       [0.05419896],\n",
              "       [0.05746151]], dtype=float32)"
            ]
          },
          "metadata": {
            "tags": []
          },
          "execution_count": 34
        }
      ]
    },
    {
      "cell_type": "code",
      "metadata": {
        "id": "84qEvirocCz3",
        "colab_type": "code",
        "colab": {
          "base_uri": "https://localhost:8080/",
          "height": 52
        },
        "outputId": "9c699229-5700-4ecf-f1bf-4b2fc864e5c6"
      },
      "source": [
        "# Combine to test_data\n",
        "predicted_r_data = test_y.copy()\n",
        "predicted_r_data = predicted_r_data.to_frame()\n",
        "predicted_r_data[target_column +'_pred'] = test_prediction\n",
        "predicted_r_data *= target_multiplier\n",
        "predicted_r_data += target_offset\n",
        "predicted_r_data.head()\n",
        "predicted_r_data['absolute_error'] = abs(predicted_r_data[target_column] - predicted_r_data[target_column +'_pred'])\n",
        "predicted_r_data['square_error'] = (predicted_r_data[target_column] - predicted_r_data[target_column +'_pred'])**2\n",
        "print(\"Mean Absolute Error: {}\".format(predicted_r_data['absolute_error'].mean()))\n",
        "print(\"Mean Square Error: {}\".format(predicted_r_data['square_error'].mean()))"
      ],
      "execution_count": 35,
      "outputs": [
        {
          "output_type": "stream",
          "text": [
            "Mean Absolute Error: 0.5311081185419724\n",
            "Mean Square Error: 1.719360716405997\n"
          ],
          "name": "stdout"
        }
      ]
    },
    {
      "cell_type": "code",
      "metadata": {
        "id": "gYP7JLvmgGkk",
        "colab_type": "code",
        "colab": {
          "base_uri": "https://localhost:8080/",
          "height": 197
        },
        "outputId": "80b8af43-6989-45bb-d331-49e8a345052f"
      },
      "source": [
        "# Join model predictions with original data for comparison\n",
        "predicted_r_data_NN = test_data[['fips','date']].join(predicted_r_data)\n",
        "predicted_r_data_NN.head()"
      ],
      "execution_count": 30,
      "outputs": [
        {
          "output_type": "execute_result",
          "data": {
            "text/html": [
              "<div>\n",
              "<style scoped>\n",
              "    .dataframe tbody tr th:only-of-type {\n",
              "        vertical-align: middle;\n",
              "    }\n",
              "\n",
              "    .dataframe tbody tr th {\n",
              "        vertical-align: top;\n",
              "    }\n",
              "\n",
              "    .dataframe thead th {\n",
              "        text-align: right;\n",
              "    }\n",
              "</style>\n",
              "<table border=\"1\" class=\"dataframe\">\n",
              "  <thead>\n",
              "    <tr style=\"text-align: right;\">\n",
              "      <th></th>\n",
              "      <th>fips</th>\n",
              "      <th>date</th>\n",
              "      <th>estimated_r_ratio8</th>\n",
              "      <th>estimated_r_ratio8_pred</th>\n",
              "      <th>absolute_error</th>\n",
              "      <th>square_error</th>\n",
              "    </tr>\n",
              "  </thead>\n",
              "  <tbody>\n",
              "    <tr>\n",
              "      <th>5</th>\n",
              "      <td>53061.0</td>\n",
              "      <td>2020-01-26</td>\n",
              "      <td>1.0</td>\n",
              "      <td>6.985419</td>\n",
              "      <td>5.985419</td>\n",
              "      <td>35.825240</td>\n",
              "    </tr>\n",
              "    <tr>\n",
              "      <th>10</th>\n",
              "      <td>53061.0</td>\n",
              "      <td>2020-01-31</td>\n",
              "      <td>1.0</td>\n",
              "      <td>5.303097</td>\n",
              "      <td>4.303097</td>\n",
              "      <td>18.516641</td>\n",
              "    </tr>\n",
              "    <tr>\n",
              "      <th>15</th>\n",
              "      <td>53061.0</td>\n",
              "      <td>2020-02-05</td>\n",
              "      <td>1.0</td>\n",
              "      <td>3.611344</td>\n",
              "      <td>2.611344</td>\n",
              "      <td>6.819119</td>\n",
              "    </tr>\n",
              "    <tr>\n",
              "      <th>16</th>\n",
              "      <td>53061.0</td>\n",
              "      <td>2020-02-06</td>\n",
              "      <td>1.0</td>\n",
              "      <td>3.423548</td>\n",
              "      <td>2.423548</td>\n",
              "      <td>5.873584</td>\n",
              "    </tr>\n",
              "    <tr>\n",
              "      <th>18</th>\n",
              "      <td>53061.0</td>\n",
              "      <td>2020-02-08</td>\n",
              "      <td>1.0</td>\n",
              "      <td>3.080681</td>\n",
              "      <td>2.080681</td>\n",
              "      <td>4.329235</td>\n",
              "    </tr>\n",
              "  </tbody>\n",
              "</table>\n",
              "</div>"
            ],
            "text/plain": [
              "       fips       date  ...  absolute_error  square_error\n",
              "5   53061.0 2020-01-26  ...        5.985419     35.825240\n",
              "10  53061.0 2020-01-31  ...        4.303097     18.516641\n",
              "15  53061.0 2020-02-05  ...        2.611344      6.819119\n",
              "16  53061.0 2020-02-06  ...        2.423548      5.873584\n",
              "18  53061.0 2020-02-08  ...        2.080681      4.329235\n",
              "\n",
              "[5 rows x 6 columns]"
            ]
          },
          "metadata": {
            "tags": []
          },
          "execution_count": 30
        }
      ]
    },
    {
      "cell_type": "code",
      "metadata": {
        "id": "bjB1__8NjfeQ",
        "colab_type": "code",
        "colab": {
          "base_uri": "https://localhost:8080/",
          "height": 17
        },
        "outputId": "12bd06ee-90f6-4a71-e0a9-f62d4d76705d"
      },
      "source": [
        "# Export this data\n",
        "from google.colab import files\n",
        "\n",
        "predicted_r_data__NN_file = predicted_r_data_NN.to_csv(\"predicited_r_data_NN.csv\")\n",
        "files.download(\"predicited_r_data_NN.csv\")"
      ],
      "execution_count": null,
      "outputs": [
        {
          "output_type": "display_data",
          "data": {
            "application/javascript": [
              "\n",
              "    async function download(id, filename, size) {\n",
              "      if (!google.colab.kernel.accessAllowed) {\n",
              "        return;\n",
              "      }\n",
              "      const div = document.createElement('div');\n",
              "      const label = document.createElement('label');\n",
              "      label.textContent = `Downloading \"${filename}\": `;\n",
              "      div.appendChild(label);\n",
              "      const progress = document.createElement('progress');\n",
              "      progress.max = size;\n",
              "      div.appendChild(progress);\n",
              "      document.body.appendChild(div);\n",
              "\n",
              "      const buffers = [];\n",
              "      let downloaded = 0;\n",
              "\n",
              "      const channel = await google.colab.kernel.comms.open(id);\n",
              "      // Send a message to notify the kernel that we're ready.\n",
              "      channel.send({})\n",
              "\n",
              "      for await (const message of channel.messages) {\n",
              "        // Send a message to notify the kernel that we're ready.\n",
              "        channel.send({})\n",
              "        if (message.buffers) {\n",
              "          for (const buffer of message.buffers) {\n",
              "            buffers.push(buffer);\n",
              "            downloaded += buffer.byteLength;\n",
              "            progress.value = downloaded;\n",
              "          }\n",
              "        }\n",
              "      }\n",
              "      const blob = new Blob(buffers, {type: 'application/binary'});\n",
              "      const a = document.createElement('a');\n",
              "      a.href = window.URL.createObjectURL(blob);\n",
              "      a.download = filename;\n",
              "      div.appendChild(a);\n",
              "      a.click();\n",
              "      div.remove();\n",
              "    }\n",
              "  "
            ],
            "text/plain": [
              "<IPython.core.display.Javascript object>"
            ]
          },
          "metadata": {
            "tags": []
          }
        },
        {
          "output_type": "display_data",
          "data": {
            "application/javascript": [
              "download(\"download_d4b421d5-8ada-49a6-9d7f-b7c753fb6f08\", \"predicited_r_data_NN.csv\", 3010276)"
            ],
            "text/plain": [
              "<IPython.core.display.Javascript object>"
            ]
          },
          "metadata": {
            "tags": []
          }
        }
      ]
    }
  ]
}